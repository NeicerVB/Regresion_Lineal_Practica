{
 "cells": [
  {
   "cell_type": "markdown",
   "id": "a13d6368",
   "metadata": {},
   "source": [
    "#### 1. Importamos las librerías necesarias"
   ]
  },
  {
   "cell_type": "code",
   "execution_count": 1,
   "id": "d2c4d8fb",
   "metadata": {},
   "outputs": [],
   "source": [
    "import os\n",
    "import numpy as np\n",
    "import pandas as pd\n",
    "from sklearn.model_selection import train_test_split"
   ]
  },
  {
   "cell_type": "markdown",
   "id": "8a747a15",
   "metadata": {},
   "source": [
    "#### 2. Cargamos el dataset"
   ]
  },
  {
   "cell_type": "code",
   "execution_count": 2,
   "id": "5179860a",
   "metadata": {},
   "outputs": [
    {
     "data": {
      "application/vnd.microsoft.datawrangler.viewer.v0+json": {
       "columns": [
        {
         "name": "index",
         "rawType": "int64",
         "type": "integer"
        },
        {
         "name": "Horas_de_lectura",
         "rawType": "float64",
         "type": "float"
        },
        {
         "name": "Libros_leidos",
         "rawType": "float64",
         "type": "float"
        }
       ],
       "ref": "d3a4d6f4-8602-4068-b789-86af7b7fbf24",
       "rows": [
        [
         "0",
         "0.0",
         "0.0993428306022465"
        ],
        [
         "1",
         "0.0668896321070234",
         "0.0"
        ],
        [
         "2",
         "0.1337792642140468",
         "0.1629825236736502"
        ],
        [
         "3",
         "0.2006688963210702",
         "0.3547731953618727"
        ],
        [
         "4",
         "0.2675585284280936",
         "0.0200589571623562"
        ]
       ],
       "shape": {
        "columns": 2,
        "rows": 5
       }
      },
      "text/html": [
       "<div>\n",
       "<style scoped>\n",
       "    .dataframe tbody tr th:only-of-type {\n",
       "        vertical-align: middle;\n",
       "    }\n",
       "\n",
       "    .dataframe tbody tr th {\n",
       "        vertical-align: top;\n",
       "    }\n",
       "\n",
       "    .dataframe thead th {\n",
       "        text-align: right;\n",
       "    }\n",
       "</style>\n",
       "<table border=\"1\" class=\"dataframe\">\n",
       "  <thead>\n",
       "    <tr style=\"text-align: right;\">\n",
       "      <th></th>\n",
       "      <th>Horas_de_lectura</th>\n",
       "      <th>Libros_leidos</th>\n",
       "    </tr>\n",
       "  </thead>\n",
       "  <tbody>\n",
       "    <tr>\n",
       "      <th>0</th>\n",
       "      <td>0.000000</td>\n",
       "      <td>0.099343</td>\n",
       "    </tr>\n",
       "    <tr>\n",
       "      <th>1</th>\n",
       "      <td>0.066890</td>\n",
       "      <td>0.000000</td>\n",
       "    </tr>\n",
       "    <tr>\n",
       "      <th>2</th>\n",
       "      <td>0.133779</td>\n",
       "      <td>0.162983</td>\n",
       "    </tr>\n",
       "    <tr>\n",
       "      <th>3</th>\n",
       "      <td>0.200669</td>\n",
       "      <td>0.354773</td>\n",
       "    </tr>\n",
       "    <tr>\n",
       "      <th>4</th>\n",
       "      <td>0.267559</td>\n",
       "      <td>0.020059</td>\n",
       "    </tr>\n",
       "  </tbody>\n",
       "</table>\n",
       "</div>"
      ],
      "text/plain": [
       "   Horas_de_lectura  Libros_leidos\n",
       "0          0.000000       0.099343\n",
       "1          0.066890       0.000000\n",
       "2          0.133779       0.162983\n",
       "3          0.200669       0.354773\n",
       "4          0.267559       0.020059"
      ]
     },
     "execution_count": 2,
     "metadata": {},
     "output_type": "execute_result"
    }
   ],
   "source": [
    "DATA_PATH = os.path.join(\"..\", \"..\", 'data', 'raw', 'data_libros.csv')\n",
    "\n",
    "df_books = pd.read_csv(DATA_PATH)\n",
    "df_books.columns = ['Horas_de_lectura', 'Libros_leidos']\n",
    "\n",
    "df_books.head()"
   ]
  },
  {
   "cell_type": "markdown",
   "id": "b81029c6",
   "metadata": {},
   "source": [
    "#### 3. Dividir el dataset en parte de entrenamiento y prueba"
   ]
  },
  {
   "cell_type": "code",
   "execution_count": 3,
   "id": "31a476cf",
   "metadata": {},
   "outputs": [],
   "source": [
    "# Separar las variables predictoras y a predecir\n",
    "features = df_books['Horas_de_lectura'].values\n",
    "label = df_books['Libros_leidos'].values\n",
    "\n",
    "# Divimos los datos en entrenamiento y prueba\n",
    "X_train, X_test, y_train, y_test = (\n",
    "    train_test_split(features, label, \n",
    "    test_size=0.3, random_state=20)\n",
    ")"
   ]
  },
  {
   "cell_type": "code",
   "execution_count": 4,
   "id": "e030adac",
   "metadata": {},
   "outputs": [],
   "source": [
    "# A los datos de las variables debemos agregarle una columna de 1 el cual sirve como referencia al sesgo\n",
    "B = np.ones(len(X_train)) # Columna sesgo o BIAS\n",
    "\n",
    "# Unificar las columnas de sesgo y de features\n",
    "X = np.array([B, X_train]).T"
   ]
  },
  {
   "cell_type": "markdown",
   "id": "1dcb4e96",
   "metadata": {},
   "source": [
    "#### 5. Creación del entrenamiento para Regresión Lineal"
   ]
  },
  {
   "cell_type": "code",
   "execution_count": 5,
   "id": "a8fa4ddc",
   "metadata": {},
   "outputs": [],
   "source": [
    "def train(features, label):\n",
    "    \"\"\"\n",
    "    Calcula los coeficientes de un modelo de regresión lineal utilizando\n",
    "    la fórmula directa de OLS:\n",
    "        B = (X^T @ X)^-1 @ X^T @ Y\n",
    "        \n",
    "    -> X = Variables y Bias\n",
    "    -> Y = Etiqueta\n",
    "    -> @ = producto punto\n",
    "    -> ^T = transpuesta de la matriz\n",
    "    -> ^-1 = inversa de la matriz\n",
    "    \n",
    "    Retorna: vector result con los parámetros que mejor optimizan\n",
    "    el modelo\n",
    "    \"\"\"\n",
    "\n",
    "    result = np.linalg.inv(features.T @ features) @ features.T @ label\n",
    "\n",
    "    return result\n",
    "\n",
    "def predictions(x, w, b):\n",
    "    return b + (w * x)"
   ]
  },
  {
   "cell_type": "code",
   "execution_count": 6,
   "id": "8abb4bf6",
   "metadata": {},
   "outputs": [],
   "source": [
    "parameters = train(X, y_train)\n",
    "\n",
    "points = np.linspace(X_train.min(), X_train.max(), 10)\n",
    "bias = parameters[0]\n",
    "weights = parameters[1]"
   ]
  },
  {
   "cell_type": "markdown",
   "id": "f2e57738",
   "metadata": {},
   "source": [
    "#### 5. Visualización de los datos y los parámetros encontrados"
   ]
  },
  {
   "cell_type": "code",
   "execution_count": 7,
   "id": "c081fd6c",
   "metadata": {},
   "outputs": [
    {
     "data": {
      "image/png": "[encoded data removed]",
      "text/plain": [
       "<Figure size 640x480 with 1 Axes>"
      ]
     },
     "metadata": {},
     "output_type": "display_data"
    }
   ],
   "source": [
    "# Graficar los datos\n",
    "import matplotlib.pyplot as plt\n",
    "\n",
    "plt.scatter(\n",
    "    x = X_train.reshape(-1,1),\n",
    "    y = y_train.reshape(-1,1)\n",
    ")\n",
    "\n",
    "# Graficamos los parámetros obtenidos\n",
    "plt.plot(\n",
    "    points,\n",
    "    bias + (weights * points),\n",
    "    color='red',\n",
    "    linewidth=4\n",
    ")\n",
    "\n",
    "plt.show()"
   ]
  },
  {
   "cell_type": "markdown",
   "id": "87df7aa5",
   "metadata": {},
   "source": [
    "#### 6. Realizando predicciones y evaluando el modelo"
   ]
  },
  {
   "cell_type": "code",
   "execution_count": 8,
   "id": "333e27c2",
   "metadata": {},
   "outputs": [],
   "source": [
    "# Obtenemos los valores predichos\n",
    "y_pred = predictions(x=X_test, b=bias, w=weights)\n",
    "\n",
    "# Creamos una variable de resultados\n",
    "resultados = {\n",
    "    'Valor predicho':[], 'Valor original':[], \n",
    "    'Error':[], 'L2':[]\n",
    "}\n",
    "\n",
    "# Obtemos los resultados de los residuos (error) y la métrica L2\n",
    "for y_p, y_t in zip(y_pred, y_test):\n",
    "    resultados['Valor predicho'].append(y_p)\n",
    "    resultados['Valor original'].append(y_t)\n",
    "    resultados['Error'].append(y_t-y_p)\n",
    "    resultados['L2'].append(pow(y_t-y_p, 2))"
   ]
  },
  {
   "cell_type": "code",
   "execution_count": 9,
   "id": "f393ad97",
   "metadata": {},
   "outputs": [
    {
     "name": "stdout",
     "output_type": "stream",
     "text": [
      "Error cuadrático medio: 0.04\n"
     ]
    }
   ],
   "source": [
    "print(f\"Error cuadrático medio: {round(sum(resultados['L2']) / len(y_pred), 2)}\")"
   ]
  },
  {
   "cell_type": "markdown",
   "id": "10d1da27",
   "metadata": {},
   "source": [
    "#### 7. Realizando la gráfica de residuos"
   ]
  },
  {
   "cell_type": "code",
   "execution_count": 10,
   "id": "60b43cfb",
   "metadata": {},
   "outputs": [
    {
     "data": {
      "image/png": "[encoded data removed]",
      "text/plain": [
       "<Figure size 640x480 with 1 Axes>"
      ]
     },
     "metadata": {},
     "output_type": "display_data"
    }
   ],
   "source": [
    "residuos = pd.DataFrame.from_dict(resultados).round(3)\n",
    "\n",
    "# Gráfica de residuos\n",
    "rango = np.linspace(\n",
    "    residuos['Error'].min(), residuos['Error'].max(), len(residuos)\n",
    ")\n",
    "\n",
    "plt.scatter(\n",
    "    x = rango,\n",
    "    y = residuos['Error'],\n",
    "    zorder=2\n",
    ")\n",
    "plt.axhline(color='black', zorder=1)\n",
    "plt.grid(zorder=0)\n",
    "plt.show()"
   ]
  }
 ],
 "metadata": {
  "kernelspec": {
   "display_name": "env_platzi",
   "language": "python",
   "name": "python3"
  },
  "language_info": {
   "codemirror_mode": {
    "name": "ipython",
    "version": 3
   },
   "file_extension": ".py",
   "mimetype": "text/x-python",
   "name": "python",
   "nbconvert_exporter": "python",
   "pygments_lexer": "ipython3",
   "version": "3.11.9"
  }
 },
 "nbformat": 4,
 "nbformat_minor": 5
}
