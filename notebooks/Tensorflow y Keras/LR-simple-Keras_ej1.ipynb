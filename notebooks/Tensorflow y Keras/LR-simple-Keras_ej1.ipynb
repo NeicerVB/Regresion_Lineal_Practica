{
 "cells": [
  {
   "cell_type": "code",
   "execution_count": 6,
   "id": "35c414e6",
   "metadata": {},
   "outputs": [],
   "source": [
    "import numpy as np\n",
    "import pandas as pd\n",
    "import matplotlib.pyplot as plt\n",
    "\n",
    "from sklearn.preprocessing import StandardScaler\n",
    "\n",
    "import keras"
   ]
  },
  {
   "cell_type": "code",
   "execution_count": 2,
   "id": "f7f4dafc",
   "metadata": {},
   "outputs": [
    {
     "data": {
      "application/vnd.microsoft.datawrangler.viewer.v0+json": {
       "columns": [
        {
         "name": "index",
         "rawType": "int64",
         "type": "integer"
        },
        {
         "name": "Celsius",
         "rawType": "int64",
         "type": "integer"
        },
        {
         "name": "Fahrenheit",
         "rawType": "int64",
         "type": "integer"
        }
       ],
       "ref": "6269288e-974e-414f-9704-b001dc1638a8",
       "rows": [
        [
         "0",
         "-10",
         "14"
        ],
        [
         "1",
         "-5",
         "23"
        ],
        [
         "2",
         "0",
         "32"
        ],
        [
         "3",
         "5",
         "41"
        ],
        [
         "4",
         "10",
         "50"
        ],
        [
         "5",
         "15",
         "59"
        ],
        [
         "6",
         "20",
         "68"
        ],
        [
         "7",
         "25",
         "77"
        ],
        [
         "8",
         "30",
         "86"
        ],
        [
         "9",
         "35",
         "95"
        ]
       ],
       "shape": {
        "columns": 2,
        "rows": 10
       }
      },
      "text/html": [
       "<div>\n",
       "<style scoped>\n",
       "    .dataframe tbody tr th:only-of-type {\n",
       "        vertical-align: middle;\n",
       "    }\n",
       "\n",
       "    .dataframe tbody tr th {\n",
       "        vertical-align: top;\n",
       "    }\n",
       "\n",
       "    .dataframe thead th {\n",
       "        text-align: right;\n",
       "    }\n",
       "</style>\n",
       "<table border=\"1\" class=\"dataframe\">\n",
       "  <thead>\n",
       "    <tr style=\"text-align: right;\">\n",
       "      <th></th>\n",
       "      <th>Celsius</th>\n",
       "      <th>Fahrenheit</th>\n",
       "    </tr>\n",
       "  </thead>\n",
       "  <tbody>\n",
       "    <tr>\n",
       "      <th>0</th>\n",
       "      <td>-10</td>\n",
       "      <td>14</td>\n",
       "    </tr>\n",
       "    <tr>\n",
       "      <th>1</th>\n",
       "      <td>-5</td>\n",
       "      <td>23</td>\n",
       "    </tr>\n",
       "    <tr>\n",
       "      <th>2</th>\n",
       "      <td>0</td>\n",
       "      <td>32</td>\n",
       "    </tr>\n",
       "    <tr>\n",
       "      <th>3</th>\n",
       "      <td>5</td>\n",
       "      <td>41</td>\n",
       "    </tr>\n",
       "    <tr>\n",
       "      <th>4</th>\n",
       "      <td>10</td>\n",
       "      <td>50</td>\n",
       "    </tr>\n",
       "    <tr>\n",
       "      <th>5</th>\n",
       "      <td>15</td>\n",
       "      <td>59</td>\n",
       "    </tr>\n",
       "    <tr>\n",
       "      <th>6</th>\n",
       "      <td>20</td>\n",
       "      <td>68</td>\n",
       "    </tr>\n",
       "    <tr>\n",
       "      <th>7</th>\n",
       "      <td>25</td>\n",
       "      <td>77</td>\n",
       "    </tr>\n",
       "    <tr>\n",
       "      <th>8</th>\n",
       "      <td>30</td>\n",
       "      <td>86</td>\n",
       "    </tr>\n",
       "    <tr>\n",
       "      <th>9</th>\n",
       "      <td>35</td>\n",
       "      <td>95</td>\n",
       "    </tr>\n",
       "  </tbody>\n",
       "</table>\n",
       "</div>"
      ],
      "text/plain": [
       "   Celsius  Fahrenheit\n",
       "0      -10          14\n",
       "1       -5          23\n",
       "2        0          32\n",
       "3        5          41\n",
       "4       10          50\n",
       "5       15          59\n",
       "6       20          68\n",
       "7       25          77\n",
       "8       30          86\n",
       "9       35          95"
      ]
     },
     "execution_count": 2,
     "metadata": {},
     "output_type": "execute_result"
    }
   ],
   "source": [
    "data = {\n",
    "    'Celsius': [-10, -5, 0, 5, 10, 15, 20, 25, 30, 35],\n",
    "    'Fahrenheit': [14, 23, 32, 41, 50, 59, 68, 77, 86, 95]\n",
    "}\n",
    "\n",
    "# Convertir el conjunto de datos a un dataframe\n",
    "datos = pd.DataFrame.from_dict(data)\n",
    "\n",
    "datos"
   ]
  },
  {
   "cell_type": "code",
   "execution_count": 3,
   "id": "bcac6aeb",
   "metadata": {},
   "outputs": [],
   "source": [
    "X = datos['Celsius'].values\n",
    "y = datos['Fahrenheit'].values"
   ]
  },
  {
   "cell_type": "code",
   "execution_count": 4,
   "id": "2bf6594b",
   "metadata": {},
   "outputs": [],
   "source": [
    "# Datos estandarizados\n",
    "scaler_x = StandardScaler()\n",
    "scaler_y = StandardScaler()\n",
    "\n",
    "X = scaler_x.fit_transform(X.reshape(-1, 1))\n",
    "y = scaler_y.fit_transform(y.reshape(-1, 1))"
   ]
  },
  {
   "cell_type": "code",
   "execution_count": 5,
   "id": "4906bbf0",
   "metadata": {},
   "outputs": [
    {
     "data": {
      "image/png": "[encoded data removed]",
      "text/plain": [
       "<Figure size 640x480 with 1 Axes>"
      ]
     },
     "metadata": {},
     "output_type": "display_data"
    }
   ],
   "source": [
    "# Graficar los datos\n",
    "plt.scatter(x=X, y=y, zorder=2)\n",
    "plt.grid(True, zorder=0)\n",
    "plt.show()"
   ]
  },
  {
   "cell_type": "code",
   "execution_count": null,
   "id": "05a8c2f8",
   "metadata": {},
   "outputs": [],
   "source": [
    "model = keras.Sequential()\n",
    "\n",
    "model.add(keras.Input(shape=(1,)))\n",
    "# Capa de salida con activación lineal para regresión\n",
    "model.add(keras.layers.Dense(1, activation='linear'))\n",
    "\n",
    "# Reducir el learning rate para un entrenamiento más estable con más capas\n",
    "opt = keras.optimizers.SGD(learning_rate=0.01)\n",
    "model.compile(optimizer=opt, loss='mean_squared_error')"
   ]
  },
  {
   "cell_type": "code",
   "execution_count": 36,
   "id": "84b1d7ff",
   "metadata": {},
   "outputs": [
    {
     "name": "stdout",
     "output_type": "stream",
     "text": [
      "Comenzando entrenamiento...\n",
      "Entrenamiento finalizado\n"
     ]
    }
   ],
   "source": [
    "print('Comenzando entrenamiento...')\n",
    "historial = model.fit(X, y, epochs=500, verbose=False)\n",
    "print('Entrenamiento finalizado')"
   ]
  },
  {
   "cell_type": "code",
   "execution_count": 37,
   "id": "4862145c",
   "metadata": {},
   "outputs": [
    {
     "data": {
      "image/png": "[encoded data removed]",
      "text/plain": [
       "<Figure size 640x480 with 1 Axes>"
      ]
     },
     "metadata": {},
     "output_type": "display_data"
    }
   ],
   "source": [
    "plt.plot(historial.history['loss']);"
   ]
  },
  {
   "cell_type": "code",
   "execution_count": 38,
   "id": "6fb03763",
   "metadata": {},
   "outputs": [
    {
     "data": {
      "text/plain": [
       "[array([[0.9999386]], dtype=float32), array([1.0221313e-09], dtype=float32)]"
      ]
     },
     "execution_count": 38,
     "metadata": {},
     "output_type": "execute_result"
    }
   ],
   "source": [
    "# Obtener los parametros del modelo\n",
    "model.get_weights()"
   ]
  },
  {
   "cell_type": "code",
   "execution_count": 49,
   "id": "4550208a",
   "metadata": {},
   "outputs": [],
   "source": [
    "# Realizar una predicción\n",
    "celsius_a_predecir = 43\n",
    "\n",
    "# Convertir el valor a estandarizado\n",
    "celsius_a_predecir_std = scaler_x.transform([[celsius_a_predecir]])"
   ]
  },
  {
   "cell_type": "code",
   "execution_count": 50,
   "id": "1e6b1358",
   "metadata": {},
   "outputs": [
    {
     "name": "stdout",
     "output_type": "stream",
     "text": [
      "\u001b[1m1/1\u001b[0m \u001b[32m━━━━━━━━━━━━━━━━━━━━\u001b[0m\u001b[37m\u001b[0m \u001b[1m0s\u001b[0m 135ms/step\n",
      "Valores estandarizados: 2.12°C son 2.12°F\n",
      "Valores reales: 43°C son 109.40°F\n"
     ]
    }
   ],
   "source": [
    "# Predecir el valor de Fahrenheit\n",
    "fahrenheit_predicho_std = model.predict(celsius_a_predecir_std)\n",
    "print(f\"Valores estandarizados: {celsius_a_predecir_std[0][0]:.2f}°C son {fahrenheit_predicho_std[0][0]:.2f}°F\")\n",
    "\n",
    "fahrenheit_predicho = scaler_y.inverse_transform(fahrenheit_predicho_std)\n",
    "print(f\"Valores reales: {celsius_a_predecir}°C son {fahrenheit_predicho[0][0]:.2f}°F\")"
   ]
  }
 ],
 "metadata": {
  "kernelspec": {
   "display_name": "env_platzi",
   "language": "python",
   "name": "python3"
  },
  "language_info": {
   "codemirror_mode": {
    "name": "ipython",
    "version": 3
   },
   "file_extension": ".py",
   "mimetype": "text/x-python",
   "name": "python",
   "nbconvert_exporter": "python",
   "pygments_lexer": "ipython3",
   "version": "3.11.9"
  }
 },
 "nbformat": 4,
 "nbformat_minor": 5
}
